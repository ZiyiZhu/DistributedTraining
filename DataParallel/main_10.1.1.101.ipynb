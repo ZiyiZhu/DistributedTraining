{
 "cells": [
  {
   "cell_type": "code",
   "execution_count": 1,
   "metadata": {},
   "outputs": [],
   "source": [
    "import os\n",
    "import torch\n",
    "import torch.distributed as dist\n",
    "from torch.multiprocessing import Process\n",
    "from torchvision import datasets, transforms\n",
    "from train import *\n",
    "from dataload import *\n",
    "from model import *"
   ]
  },
  {
   "cell_type": "code",
   "execution_count": 2,
   "metadata": {},
   "outputs": [],
   "source": [
    "def distributed_is_initialized():\n",
    "    if dist.is_available():\n",
    "        if dist.is_initialized():\n",
    "            return True\n",
    "    return False"
   ]
  },
  {
   "cell_type": "code",
   "execution_count": 3,
   "metadata": {},
   "outputs": [],
   "source": [
    "def run(args):\n",
    "    device = torch.device('cuda' if torch.cuda.is_available() else 'cpu')\n",
    "    print(device)\n",
    "    model = Net()\n",
    "    is_distributed = distributed_is_initialized()\n",
    "    print(\"is_distributed:\", is_distributed)\n",
    "    if is_distributed:\n",
    "        model.to(device)\n",
    "        model = torch.nn.parallel.DistributedDataParallel(model)\n",
    "    else:\n",
    "        #model = nn.DataParallel(model)\n",
    "        model.to(device)\n",
    "\n",
    "    optimizer = torch.optim.Adam(model.parameters(), lr=args['lr'])\n",
    "\n",
    "    train_loader = MNISTDataLoader(args['root'], args['batch_size'], train=True, distributed=is_distributed)\n",
    "    test_loader = MNISTDataLoader(args['root'], args['batch_size'], train=False, distributed=is_distributed)\n",
    "\n",
    "    trainer = Trainer(model, optimizer, train_loader, test_loader, device)\n",
    "    trainer.fit(args['epochs'])"
   ]
  },
  {
   "cell_type": "code",
   "execution_count": 4,
   "metadata": {},
   "outputs": [],
   "source": [
    "def main():\n",
    "    argv = {'world_size': int(2),\n",
    "            'rank': int(0),\n",
    "            'epochs': int(10),\n",
    "            'back_end': 'nccl',\n",
    "            'init_method': 'tcp://10.1.1.101:23456',\n",
    "            'lr': float(1e-3),\n",
    "            'root': 'data',\n",
    "            'batch_size': int(32)\n",
    "           }\n",
    "    \n",
    "    print(argv)\n",
    "    if argv['world_size'] > 1:\n",
    "        dist.init_process_group(\n",
    "            backend=argv['back_end'],\n",
    "            init_method=argv['init_method'],\n",
    "            world_size=argv['world_size'],\n",
    "            rank=argv['rank'],\n",
    "    )\n",
    "    print('Start Run')\n",
    "    run(argv)"
   ]
  },
  {
   "cell_type": "code",
   "execution_count": 5,
   "metadata": {},
   "outputs": [
    {
     "name": "stdout",
     "output_type": "stream",
     "text": [
      "{'world_size': 2, 'rank': 0, 'epochs': 10, 'back_end': 'nccl', 'init_method': 'tcp://10.1.1.101:23456', 'lr': 0.001, 'root': 'data', 'batch_size': 32}\n",
      "Start Run\n",
      "cuda\n",
      "is_distributed: True\n",
      "Downloading http://fashion-mnist.s3-website.eu-central-1.amazonaws.com/train-images-idx3-ubyte.gz to data/FashionMNIST/raw/train-images-idx3-ubyte.gz\n"
     ]
    },
    {
     "data": {
      "application/vnd.jupyter.widget-view+json": {
       "model_id": "05a59f45e5844ee99fd3f1a246174b16",
       "version_major": 2,
       "version_minor": 0
      },
      "text/plain": [
       "HBox(children=(FloatProgress(value=1.0, bar_style='info', max=1.0), HTML(value='')))"
      ]
     },
     "metadata": {},
     "output_type": "display_data"
    },
    {
     "name": "stdout",
     "output_type": "stream",
     "text": [
      "Extracting data/FashionMNIST/raw/train-images-idx3-ubyte.gz to data/FashionMNIST/raw\n",
      "Downloading http://fashion-mnist.s3-website.eu-central-1.amazonaws.com/train-labels-idx1-ubyte.gz to data/FashionMNIST/raw/train-labels-idx1-ubyte.gz\n"
     ]
    },
    {
     "data": {
      "application/vnd.jupyter.widget-view+json": {
       "model_id": "9dd05fa4ad4f442f9d6941866d4cb282",
       "version_major": 2,
       "version_minor": 0
      },
      "text/plain": [
       "HBox(children=(FloatProgress(value=1.0, bar_style='info', max=1.0), HTML(value='')))"
      ]
     },
     "metadata": {},
     "output_type": "display_data"
    },
    {
     "name": "stdout",
     "output_type": "stream",
     "text": [
      "Extracting data/FashionMNIST/raw/train-labels-idx1-ubyte.gz to data/FashionMNIST/raw\n",
      "Downloading http://fashion-mnist.s3-website.eu-central-1.amazonaws.com/t10k-images-idx3-ubyte.gz to data/FashionMNIST/raw/t10k-images-idx3-ubyte.gz\n"
     ]
    },
    {
     "data": {
      "application/vnd.jupyter.widget-view+json": {
       "model_id": "c59e6de3b6f449328e6a4dede9094310",
       "version_major": 2,
       "version_minor": 0
      },
      "text/plain": [
       "HBox(children=(FloatProgress(value=1.0, bar_style='info', max=1.0), HTML(value='')))"
      ]
     },
     "metadata": {},
     "output_type": "display_data"
    },
    {
     "name": "stdout",
     "output_type": "stream",
     "text": [
      "Extracting data/FashionMNIST/raw/t10k-images-idx3-ubyte.gz to data/FashionMNIST/raw\n",
      "Downloading http://fashion-mnist.s3-website.eu-central-1.amazonaws.com/t10k-labels-idx1-ubyte.gz to data/FashionMNIST/raw/t10k-labels-idx1-ubyte.gz\n"
     ]
    },
    {
     "data": {
      "application/vnd.jupyter.widget-view+json": {
       "model_id": "0dc737f8252748a6a8c27b96bbcec3ed",
       "version_major": 2,
       "version_minor": 0
      },
      "text/plain": [
       "HBox(children=(FloatProgress(value=1.0, bar_style='info', max=1.0), HTML(value='')))"
      ]
     },
     "metadata": {},
     "output_type": "display_data"
    },
    {
     "name": "stdout",
     "output_type": "stream",
     "text": [
      "Extracting data/FashionMNIST/raw/t10k-labels-idx1-ubyte.gz to data/FashionMNIST/raw\n",
      "Processing...\n",
      "Done!\n",
      "\n",
      "\n",
      "\n"
     ]
    },
    {
     "name": "stderr",
     "output_type": "stream",
     "text": [
      "/opt/conda/conda-bld/pytorch_1587428398394/work/torch/csrc/utils/tensor_numpy.cpp:141: UserWarning: The given NumPy array is not writeable, and PyTorch does not support non-writeable tensors. This means you can write to the underlying (supposedly non-writeable) NumPy array using the tensor. You may want to copy the array to protect its data or make it writeable before converting it to a tensor. This type of warning will be suppressed for the rest of this program.\n"
     ]
    },
    {
     "name": "stdout",
     "output_type": "stream",
     "text": [
      "Epoch: 1/10, train loss: 0.655683, train acc: 75.53%, test loss: 0.471824, test acc: 82.65%.\n",
      "Epoch: 2/10, train loss: 0.414107, train acc: 84.78%, test loss: 0.397921, test acc: 85.51%.\n",
      "Epoch: 3/10, train loss: 0.354224, train acc: 86.89%, test loss: 0.365463, test acc: 86.78%.\n",
      "Epoch: 4/10, train loss: 0.323007, train acc: 87.94%, test loss: 0.348732, test acc: 87.32%.\n",
      "Epoch: 5/10, train loss: 0.301348, train acc: 88.89%, test loss: 0.336323, test acc: 87.71%.\n",
      "Epoch: 6/10, train loss: 0.285019, train acc: 89.39%, test loss: 0.333583, test acc: 87.91%.\n",
      "Epoch: 7/10, train loss: 0.270017, train acc: 89.93%, test loss: 0.321420, test acc: 88.59%.\n",
      "Epoch: 8/10, train loss: 0.256941, train acc: 90.43%, test loss: 0.312369, test acc: 88.88%.\n",
      "Epoch: 9/10, train loss: 0.246305, train acc: 90.78%, test loss: 0.309474, test acc: 89.20%.\n",
      "Epoch: 10/10, train loss: 0.235589, train acc: 91.23%, test loss: 0.306895, test acc: 89.54%.\n"
     ]
    }
   ],
   "source": [
    "main()\n"
   ]
  },
  {
   "cell_type": "code",
   "execution_count": null,
   "metadata": {},
   "outputs": [],
   "source": []
  }
 ],
 "metadata": {
  "kernelspec": {
   "display_name": "Python 3",
   "language": "python",
   "name": "python3"
  },
  "language_info": {
   "codemirror_mode": {
    "name": "ipython",
    "version": 3
   },
   "file_extension": ".py",
   "mimetype": "text/x-python",
   "name": "python",
   "nbconvert_exporter": "python",
   "pygments_lexer": "ipython3",
   "version": "3.7.6"
  }
 },
 "nbformat": 4,
 "nbformat_minor": 4
}
