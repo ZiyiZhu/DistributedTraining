{
 "cells": [
  {
   "cell_type": "code",
   "execution_count": 1,
   "metadata": {},
   "outputs": [],
   "source": [
    "import torch.distributed.rpc as rpc\n",
    "import torch\n",
    "import os\n",
    "import torch.optim as optim\n",
    "import torch\n",
    "from torch.multiprocessing import Process\n",
    "from torchvision import datasets, transforms\n",
    "from train import *\n",
    "from dataload import *\n",
    "from model import *\n",
    "\n"
   ]
  },
  {
   "cell_type": "code",
   "execution_count": 2,
   "metadata": {},
   "outputs": [],
   "source": [
    "def main():\n",
    "    argv = {'world_size': int(2),\n",
    "            'rank': int(1),\n",
    "            'host': 'worker0',\n",
    "            'worker': 'worker1',\n",
    "            'epochs': int(2),\n",
    "            'lr': float(1e-3),\n",
    "            'root': 'data',\n",
    "            'batch_size': int(32)\n",
    "           }\n",
    "    \n",
    "    print(argv)\n",
    "    rpc.init_rpc(argv['worker'], rank=argv['rank'], world_size=argv['world_size'])\n",
    "    print('Start Run', argv['rank'])\n",
    "    rpc.shutdown()\n",
    "    "
   ]
  },
  {
   "cell_type": "code",
   "execution_count": 3,
   "metadata": {},
   "outputs": [
    {
     "name": "stdout",
     "output_type": "stream",
     "text": [
      "{'world_size': 2, 'rank': 1, 'host': 'worker0', 'worker': 'worker1', 'epochs': 2, 'lr': 0.001, 'root': 'data', 'batch_size': 32}\n",
      "Start Run 1\n"
     ]
    }
   ],
   "source": [
    "os.environ['MASTER_ADDR'] = '10.142.0.13'#Google Cloud\n",
    "#os.environ['MASTER_ADDR'] = 'localhost' #local\n",
    "os.environ['MASTER_PORT'] = '29505'\n",
    "main()"
   ]
  },
  {
   "cell_type": "code",
   "execution_count": null,
   "metadata": {},
   "outputs": [],
   "source": []
  },
  {
   "cell_type": "code",
   "execution_count": null,
   "metadata": {},
   "outputs": [],
   "source": []
  }
 ],
 "metadata": {
  "kernelspec": {
   "display_name": "Python 3",
   "language": "python",
   "name": "python3"
  },
  "language_info": {
   "codemirror_mode": {
    "name": "ipython",
    "version": 3
   },
   "file_extension": ".py",
   "mimetype": "text/x-python",
   "name": "python",
   "nbconvert_exporter": "python",
   "pygments_lexer": "ipython3",
   "version": "3.7.4"
  }
 },
 "nbformat": 4,
 "nbformat_minor": 4
}
