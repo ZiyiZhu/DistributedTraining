{
 "cells": [
  {
   "cell_type": "code",
   "execution_count": 1,
   "metadata": {},
   "outputs": [],
   "source": [
    "import torch.distributed.rpc as rpc\n",
    "import torch\n",
    "import os\n",
    "import torch.optim as optim\n",
    "import torch\n",
    "from torch.multiprocessing import Process\n",
    "from torchvision import datasets, transforms\n",
    "from train import *\n",
    "from dataload import *\n",
    "from model import *\n"
   ]
  },
  {
   "cell_type": "code",
   "execution_count": 2,
   "metadata": {},
   "outputs": [],
   "source": [
    "def run(args):\n",
    "    device = torch.device('cuda' if torch.cuda.is_available() else 'cpu')\n",
    "    print(device)\n",
    "    model = CNNModel(args['host'], args['worker'],device)\n",
    "    \n",
    "    # setup distributed optimizer\n",
    "    opt = DistributedOptimizer(\n",
    "        optim.Adam,\n",
    "        model.parameter_rrefs(),\n",
    "        lr=args['lr'],\n",
    "    )\n",
    "\n",
    "    train_loader = MNISTDataLoader(args['root'], args['batch_size'], train=True)\n",
    "    test_loader = MNISTDataLoader(args['root'], args['batch_size'], train=False)\n",
    "\n",
    "    trainer = Trainer(model, opt, train_loader, test_loader, device)\n",
    "    trainer.fit(args['epochs'])"
   ]
  },
  {
   "cell_type": "code",
   "execution_count": 3,
   "metadata": {},
   "outputs": [],
   "source": [
    "def main():\n",
    "    argv = {'world_size': int(2),\n",
    "            'rank': int(0),\n",
    "            'host': \"worker0\",\n",
    "            'worker': \"worker1\",\n",
    "            'epochs': int(5),\n",
    "            'lr': float(1e-3),\n",
    "            'root': 'data',\n",
    "            'batch_size': int(32)\n",
    "           }\n",
    "    \n",
    "    print(argv)\n",
    "    rpc.init_rpc(argv['host'], rank=argv['rank'], world_size=argv['world_size'])\n",
    "    print('Start Run', argv['rank'])\n",
    "    run(argv)\n",
    "    rpc.shutdown()"
   ]
  },
  {
   "cell_type": "code",
   "execution_count": null,
   "metadata": {},
   "outputs": [
    {
     "name": "stdout",
     "output_type": "stream",
     "text": [
      "{'world_size': 2, 'rank': 0, 'host': 'worker0', 'worker': 'worker1', 'epochs': 10, 'lr': 0.001, 'root': 'data', 'batch_size': 32}\n",
      "Start Run 0\n",
      "cuda\n",
      "ConvNet(\n",
      "  (conv1): Conv2d(1, 6, kernel_size=(5, 5), stride=(1, 1))\n",
      "  (conv2): Conv2d(6, 12, kernel_size=(5, 5), stride=(1, 1))\n",
      ")\n",
      "FCNet(\n",
      "  (fc1): Linear(in_features=192, out_features=120, bias=True)\n",
      "  (fc2): Linear(in_features=120, out_features=60, bias=True)\n",
      "  (out): Linear(in_features=60, out_features=10, bias=True)\n",
      ")\n",
      "CNN model constructed: owner\n",
      "Epoch: 1/10, train loss: 0.561120, train acc: 78.93%,\n",
      "Epoch: 2/10, train loss: 0.372587, train acc: 86.53%,\n",
      "Epoch: 3/10, train loss: 0.325346, train acc: 87.97%,\n",
      "Epoch: 4/10, train loss: 0.298535, train acc: 88.95%,\n",
      "Epoch: 5/10, train loss: 0.279765, train acc: 89.67%,\n",
      "Epoch: 6/10, train loss: 0.262671, train acc: 90.21%,\n",
      "Epoch: 7/10, train loss: 0.250404, train acc: 90.72%,\n",
      "Epoch: 8/10, train loss: 0.239128, train acc: 91.16%,\n",
      "Epoch: 9/10, train loss: 0.227272, train acc: 91.44%,\n"
     ]
    }
   ],
   "source": [
    "os.environ['MASTER_ADDR'] = '10.1.1.101'\n",
    "os.environ['MASTER_PORT'] = '29505'\n",
    "main()"
   ]
  },
  {
   "cell_type": "code",
   "execution_count": null,
   "metadata": {},
   "outputs": [],
   "source": []
  },
  {
   "cell_type": "code",
   "execution_count": null,
   "metadata": {},
   "outputs": [],
   "source": []
  }
 ],
 "metadata": {
  "kernelspec": {
   "display_name": "Python 3",
   "language": "python",
   "name": "python3"
  },
  "language_info": {
   "codemirror_mode": {
    "name": "ipython",
    "version": 3
   },
   "file_extension": ".py",
   "mimetype": "text/x-python",
   "name": "python",
   "nbconvert_exporter": "python",
   "pygments_lexer": "ipython3",
   "version": "3.7.6"
  }
 },
 "nbformat": 4,
 "nbformat_minor": 4
}
